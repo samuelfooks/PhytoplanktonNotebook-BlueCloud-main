{
 "cells": [
  {
   "cell_type": "markdown",
   "metadata": {},
   "source": [
    "# Function ZNORM SOCA2020-CHLA"
   ]
  },
  {
   "cell_type": "markdown",
   "metadata": {},
   "source": [
    "### Import libraries"
   ]
  },
  {
   "cell_type": "code",
   "execution_count": 13,
   "metadata": {},
   "outputs": [
    {
     "ename": "AttributeError",
     "evalue": "module 'IPython.core' has no attribute 'get_ipython'",
     "output_type": "error",
     "traceback": [
      "\u001b[0;31m---------------------------------------------------------------------------\u001b[0m",
      "\u001b[0;31mAttributeError\u001b[0m                            Traceback (most recent call last)",
      "Cell \u001b[0;32mIn[13], line 10\u001b[0m\n\u001b[1;32m      7\u001b[0m \u001b[38;5;28;01mimport\u001b[39;00m \u001b[38;5;21;01mos\u001b[39;00m\n\u001b[1;32m      8\u001b[0m \u001b[38;5;28;01mimport\u001b[39;00m \u001b[38;5;21;01mIPython\u001b[39;00m\n\u001b[0;32m---> 10\u001b[0m notebook_path \u001b[38;5;241m=\u001b[39m os\u001b[38;5;241m.\u001b[39mpath\u001b[38;5;241m.\u001b[39mdirname(\u001b[43mIPython\u001b[49m\u001b[38;5;241;43m.\u001b[39;49m\u001b[43mcore\u001b[49m\u001b[38;5;241;43m.\u001b[39;49m\u001b[43mget_ipython\u001b[49m()\u001b[38;5;241m.\u001b[39mgetoutput(\u001b[38;5;124m'\u001b[39m\u001b[38;5;124mpwd\u001b[39m\u001b[38;5;124m'\u001b[39m)[\u001b[38;5;241m0\u001b[39m])\n\u001b[1;32m     11\u001b[0m os\u001b[38;5;241m.\u001b[39mchdir(notebook_path)\n",
      "\u001b[0;31mAttributeError\u001b[0m: module 'IPython.core' has no attribute 'get_ipython'"
     ]
    }
   ],
   "source": [
    "import pathlib\n",
    "import pickle\n",
    "import numpy as np\n",
    "import pandas as pd\n",
    "import oceans.sw_extras.sw_extras as swe\n",
    "from itertools import chain"
   ]
  },
  {
   "cell_type": "markdown",
   "metadata": {},
   "source": [
    "### Definition of paths"
   ]
  },
  {
   "cell_type": "code",
   "execution_count": 10,
   "metadata": {},
   "outputs": [],
   "source": [
    "\n",
    "###############################################################################################\n",
    "# # To run in home folder please uncomment below paths\n",
    "# MODEL_PATH = pathlib.Path(\"/home/jovyan/Phytoplankton_EOV/Chla_Product/Programs/Models/ZNORM/\")\n",
    "###############################################################################################\n",
    "MODEL_PATH = pathlib.Path(\"Chla_Product/Programs/Models/ZNORM/\")\n",
    "\n",
    "###############################################################################################\n",
    "# # To run in WorkSpace VRE folder please uncomment below paths\n",
    "# MODEL_PATH = pathlib.Path(\"/workspace/VREFolders/Zoo-Phytoplankton_EOV/Phytoplankton_EOV/Chla_Product/Programs/Models/ZNORM/\")\n",
    "\n"
   ]
  },
  {
   "cell_type": "markdown",
   "metadata": {},
   "source": [
    "### Load the PCA model to transform temperature, salinity and spiciness profiles in principal components"
   ]
  },
  {
   "cell_type": "code",
   "execution_count": 11,
   "metadata": {},
   "outputs": [
    {
     "ename": "FileNotFoundError",
     "evalue": "[Errno 2] No such file or directory: 'Chla_Product/Programs/Models/ZNORM/temp_pca_50_V1.pkl'",
     "output_type": "error",
     "traceback": [
      "\u001b[0;31m---------------------------------------------------------------------------\u001b[0m",
      "\u001b[0;31mFileNotFoundError\u001b[0m                         Traceback (most recent call last)",
      "Cell \u001b[0;32mIn[11], line 3\u001b[0m\n\u001b[1;32m      1\u001b[0m \u001b[38;5;66;03m# Lad the PCAs model\u001b[39;00m\n\u001b[1;32m      2\u001b[0m pkl_filename_temp_pca \u001b[38;5;241m=\u001b[39m \u001b[38;5;124m'\u001b[39m\u001b[38;5;124m'\u001b[39m\u001b[38;5;241m.\u001b[39mjoin([\u001b[38;5;28mstr\u001b[39m(MODEL_PATH),\u001b[38;5;28mstr\u001b[39m(\u001b[38;5;124m\"\u001b[39m\u001b[38;5;124m/temp_pca_50_V1.pkl\u001b[39m\u001b[38;5;124m\"\u001b[39m)])\n\u001b[0;32m----> 3\u001b[0m pca_temp \u001b[38;5;241m=\u001b[39m pickle\u001b[38;5;241m.\u001b[39mload(\u001b[38;5;28;43mopen\u001b[39;49m\u001b[43m(\u001b[49m\u001b[43mpkl_filename_temp_pca\u001b[49m\u001b[43m,\u001b[49m\u001b[43m \u001b[49m\u001b[38;5;124;43m\"\u001b[39;49m\u001b[38;5;124;43mrb\u001b[39;49m\u001b[38;5;124;43m\"\u001b[39;49m\u001b[43m)\u001b[49m)\n\u001b[1;32m      5\u001b[0m pkl_filename_sal_pca \u001b[38;5;241m=\u001b[39m \u001b[38;5;124m'\u001b[39m\u001b[38;5;124m'\u001b[39m\u001b[38;5;241m.\u001b[39mjoin([\u001b[38;5;28mstr\u001b[39m(MODEL_PATH),\u001b[38;5;28mstr\u001b[39m(\u001b[38;5;124m\"\u001b[39m\u001b[38;5;124m/sal_pca_50_V1.pkl\u001b[39m\u001b[38;5;124m\"\u001b[39m)])\n\u001b[1;32m      6\u001b[0m pca_sal \u001b[38;5;241m=\u001b[39m pickle\u001b[38;5;241m.\u001b[39mload(\u001b[38;5;28mopen\u001b[39m(pkl_filename_sal_pca, \u001b[38;5;124m\"\u001b[39m\u001b[38;5;124mrb\u001b[39m\u001b[38;5;124m\"\u001b[39m))\n",
      "File \u001b[0;32m~/miniforge3/envs/bluecloudwhalesenv/lib/python3.9/site-packages/IPython/core/interactiveshell.py:310\u001b[0m, in \u001b[0;36m_modified_open\u001b[0;34m(file, *args, **kwargs)\u001b[0m\n\u001b[1;32m    303\u001b[0m \u001b[38;5;28;01mif\u001b[39;00m file \u001b[38;5;129;01min\u001b[39;00m {\u001b[38;5;241m0\u001b[39m, \u001b[38;5;241m1\u001b[39m, \u001b[38;5;241m2\u001b[39m}:\n\u001b[1;32m    304\u001b[0m     \u001b[38;5;28;01mraise\u001b[39;00m \u001b[38;5;167;01mValueError\u001b[39;00m(\n\u001b[1;32m    305\u001b[0m         \u001b[38;5;124mf\u001b[39m\u001b[38;5;124m\"\u001b[39m\u001b[38;5;124mIPython won\u001b[39m\u001b[38;5;124m'\u001b[39m\u001b[38;5;124mt let you open fd=\u001b[39m\u001b[38;5;132;01m{\u001b[39;00mfile\u001b[38;5;132;01m}\u001b[39;00m\u001b[38;5;124m by default \u001b[39m\u001b[38;5;124m\"\u001b[39m\n\u001b[1;32m    306\u001b[0m         \u001b[38;5;124m\"\u001b[39m\u001b[38;5;124mas it is likely to crash IPython. If you know what you are doing, \u001b[39m\u001b[38;5;124m\"\u001b[39m\n\u001b[1;32m    307\u001b[0m         \u001b[38;5;124m\"\u001b[39m\u001b[38;5;124myou can use builtins\u001b[39m\u001b[38;5;124m'\u001b[39m\u001b[38;5;124m open.\u001b[39m\u001b[38;5;124m\"\u001b[39m\n\u001b[1;32m    308\u001b[0m     )\n\u001b[0;32m--> 310\u001b[0m \u001b[38;5;28;01mreturn\u001b[39;00m \u001b[43mio_open\u001b[49m\u001b[43m(\u001b[49m\u001b[43mfile\u001b[49m\u001b[43m,\u001b[49m\u001b[43m \u001b[49m\u001b[38;5;241;43m*\u001b[39;49m\u001b[43margs\u001b[49m\u001b[43m,\u001b[49m\u001b[43m \u001b[49m\u001b[38;5;241;43m*\u001b[39;49m\u001b[38;5;241;43m*\u001b[39;49m\u001b[43mkwargs\u001b[49m\u001b[43m)\u001b[49m\n",
      "\u001b[0;31mFileNotFoundError\u001b[0m: [Errno 2] No such file or directory: 'Chla_Product/Programs/Models/ZNORM/temp_pca_50_V1.pkl'"
     ]
    }
   ],
   "source": [
    "# Lad the PCAs model\n",
    "pkl_filename_temp_pca = ''.join([str(MODEL_PATH),str(\"/temp_pca_50_V1.pkl\")])\n",
    "pca_temp = pickle.load(open(pkl_filename_temp_pca, \"rb\"))\n",
    "\n",
    "pkl_filename_sal_pca = ''.join([str(MODEL_PATH),str(\"/sal_pca_50_V1.pkl\")])\n",
    "pca_sal = pickle.load(open(pkl_filename_sal_pca, \"rb\"))\n",
    "\n",
    "pkl_filename_spici_pca = ''.join([str(MODEL_PATH),str(\"/spici_pca_50_V1.pkl\")])\n",
    "pca_spici = pickle.load(open(pkl_filename_spici_pca, \"rb\"))\n",
    "\n",
    "pkl_filename_chla_pca = ''.join([str(MODEL_PATH),str(\"/chla_pca_50_V1.pkl\")])\n",
    "pca_chla = pickle.load(open(pkl_filename_chla_pca, \"rb\"))\n",
    "\n"
   ]
  },
  {
   "cell_type": "markdown",
   "metadata": {},
   "source": [
    "### Load the x-scaler and y-scaler models"
   ]
  },
  {
   "cell_type": "code",
   "execution_count": 4,
   "metadata": {},
   "outputs": [],
   "source": [
    "# Load the x-scaler from the file \n",
    "pkl_filename_x_scaler = ''.join([str(MODEL_PATH),str(\"/x_scaler_50_V1.pkl\")]) \n",
    "x_scaler = pickle.load(open(pkl_filename_x_scaler, 'rb')) \n",
    "# Load the x-scaler from the file \n",
    "pkl_filename_y_scaler = ''.join([str(MODEL_PATH),str(\"/y_scaler_50_V1.pkl\")])\n",
    "y_scaler = pickle.load(open(pkl_filename_y_scaler, 'rb'))  "
   ]
  },
  {
   "cell_type": "markdown",
   "metadata": {},
   "source": [
    "### Function SOCA2020 that takes as inputs the vector of Rrs data, the SLA value, the PAR value, the vectors of salinity and temperature "
   ]
  },
  {
   "cell_type": "code",
   "execution_count": null,
   "metadata": {},
   "outputs": [],
   "source": [
    "def INPUTS_SOCA_CHLA_2020(RHO_WN_412, RHO_WN_443, RHO_WN_490, RHO_WN_555, RHO_WN_670, SLA, PAR, MLD, sal,temp,spici,lon, lat, doy):\n",
    "#                           sin_doy, cos_doy, x_cart, y_cart, z_cart, sal, temp, spici):\n",
    "    \n",
    "    # Transform in pandas dataframe\n",
    "#     temp = pd.DataFrame(temp)\n",
    "#     sal = pd.DataFrame(sal)\n",
    "#     pres = pd.DataFrame(pres)\n",
    "    INPUTS1 = [SLA, PAR, RHO_WN_412, RHO_WN_443, RHO_WN_490, RHO_WN_555, RHO_WN_670, MLD]\n",
    "#               sin_doy,cos_doy,x_cart,y_cart,z_cart]\n",
    "    \n",
    "    # Compute spiciness from temperature and salinity\n",
    "#     spiciness = swe.spice(sal, temp, pres)\n",
    "\n",
    "    # Apply PCA on temperature, salinity and spiciness profiles to get the principal components\n",
    "    PrincipalComponentsTemp_Test = pca_temp.transform(np.transpose(temp))[:,:4]\n",
    "    principalComponentsSal_Test = pca_sal.transform(np.transpose(sal))[:,:3]\n",
    "    principalComponentsSpici_Test = pca_spici.transform(np.transpose(spici))[:,:4]\n",
    "    \n",
    "    # Transform day of the year in sin and cos of the radians\n",
    "    doy_radians = (doy*np.pi)/182.5\n",
    "    DOY = [np.sin(doy_radians), np.cos(doy_radians)]\n",
    "    \n",
    "    # Transform the locationlon/lat in Cartesian coordinates x/y/z\n",
    "    lat_radians = (lat*np.pi)/90\n",
    "    lon_radians = (lon*np.pi)/180\n",
    "    X_Y_Z = [np.cos(lat_radians) * np.cos(lon_radians), np.cos(lat_radians) * np.sin(lon_radians), np.sin(lat_radians)]\n",
    "         \n",
    "    INPUTS = INPUTS1 + DOY + X_Y_Z + np.concatenate(PrincipalComponentsTemp_Test).ravel().tolist() + np.concatenate(principalComponentsSal_Test).ravel().tolist() + np.concatenate(principalComponentsSpici_Test).ravel().tolist()\n",
    "    \n",
    "    input_features = ['sla', 'PAR','RHO_WN_412', \n",
    "                  'RHO_WN_443','RHO_WN_490','RHO_WN_555', 'RHO_WN_670', 'MLD', \n",
    "                  'sin_doy', 'cos_doy','x_cart', 'y_cart', 'z_cart', \n",
    "                  'temp0', 'temp1', 'temp2', 'temp3', 'sal0', 'sal1', 'sal2', 'spici0', 'spici1', 'spici2', 'spici3']\n",
    "\n",
    "#     input_features = ['sla', 'PAR', \n",
    "#                       'RHO_WN_412', 'RHO_WN_443','RHO_WN_490', 'RHO_WN_555', 'RHO_WN_670', \n",
    "#                       'MLD', 'doy_sin', 'doy_cos','x_cart', 'y_cart', 'z_cart', \n",
    "#                       'temp1', 'temp2', 'temp3', 'temp4', 'temp5', 'temp6', 'temp7',\n",
    "#                       'sal1', 'sal2', 'sal3', 'spici1', 'spici2', 'spici3', 'spici4']\n",
    "\n",
    "\n",
    "    INPUTS = pd.DataFrame(INPUTS)\n",
    "    INPUTS = INPUTS.transpose()    \n",
    "    INPUTS.columns = input_features\n",
    "    INPUTS_scaled = pd.DataFrame(x_scaler.transform(INPUTS), columns=INPUTS.columns)\n",
    "    \n",
    "    return INPUTS_scaled"
   ]
  },
  {
   "cell_type": "code",
   "execution_count": 159,
   "metadata": {},
   "outputs": [],
   "source": [
    "def SOCA_CHLA_ZNORM_2020(INPUTS_SOCA_CHLA_2020, ZNORM, pres_new):\n",
    "    \n",
    "    n_sample = INPUTS_SOCA_CHLA_2020.shape[0]\n",
    "    YPRED_TOTAL = pd.DataFrame()\n",
    "    nc1 = [65, 74, 76, 81, 86, 87, 92, 96, 98, 99]\n",
    "    nc2 = [94, 73, 84, 83, 59, 84, 45, 99, 46, 72]\n",
    "#     nc1 = [41, 44, 47, 48, 49, 49, 49, 50, 50, 50]\n",
    "#     nc2 = [39, 34, 46, 48, 45, 48, 49, 46, 49, 50]\n",
    "    Zeta_interp = np.linspace(0,1.5,50)\n",
    "    depth_interp = Zeta_interp*ZNORM   \n",
    "    \n",
    "    \n",
    "    for x in np.arange(len(nc1)):\n",
    "        pkl_filename = ''.join([str(MODEL_PATH),str(\"/pickle_model_chllogpca50_V1_\"),str(x),str(\".pkl\")])\n",
    "        MLP = pickle.load(open(pkl_filename, 'rb'))\n",
    " \n",
    "        # Apply MLP to the test dataset\n",
    "        ypred_scaled = MLP.predict(INPUTS_SOCA_CHLA_2020)\n",
    "        \n",
    "        # Detransform the outputs:\n",
    "        ypred = pd.DataFrame(\n",
    "            y_scaler.inverse_transform(ypred_scaled),\n",
    "            columns=np.arange(25),\n",
    "            index=np.arange(n_sample)\n",
    "        )\n",
    "\n",
    "        # make vectors\n",
    "        CHLA_PRED = pca_chla.inverse_transform(ypred)[:,:50]\n",
    "        CHLA_PRED = pd.DataFrame(CHLA_PRED)\n",
    "        CHLA_PRED_vec = CHLA_PRED.values.ravel()  \n",
    "        CHLA_PRED_vec = pow(10,CHLA_PRED_vec)\n",
    "        \n",
    "        CHLA_PRED_vec_N = np.interp(pres_new, depth_interp,CHLA_PRED_vec) # made into 226 depths\n",
    "        CHLA_PRED_vec_N = np.array(CHLA_PRED_vec_N)\n",
    "        CHLA_PRED_vec_N[(pres_new > max(depth_interp))]=np.nan # masked data below 1.5 ZNORM depths              \n",
    "\n",
    "\n",
    "        YPRED_TOTAL = pd.concat([YPRED_TOTAL, pd.DataFrame(CHLA_PRED_vec_N)], axis=1)\n",
    "    \n",
    "    soca_chla=np.nanmean(YPRED_TOTAL, axis=1)\n",
    "    soca_chla_err=np.nanstd(YPRED_TOTAL, axis=1)\n",
    "    \n",
    "    return soca_chla, soca_chla_err"
   ]
  },
  {
   "cell_type": "code",
   "execution_count": null,
   "metadata": {},
   "outputs": [],
   "source": []
  }
 ],
 "metadata": {
  "kernelspec": {
   "display_name": "Python 3",
   "language": "python",
   "name": "python3"
  },
  "language_info": {
   "codemirror_mode": {
    "name": "ipython",
    "version": 3
   },
   "file_extension": ".py",
   "mimetype": "text/x-python",
   "name": "python",
   "nbconvert_exporter": "python",
   "pygments_lexer": "ipython3",
   "version": "3.9.18"
  }
 },
 "nbformat": 4,
 "nbformat_minor": 4
}
