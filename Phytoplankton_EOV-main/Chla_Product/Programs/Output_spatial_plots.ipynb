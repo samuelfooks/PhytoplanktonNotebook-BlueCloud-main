{
 "cells": [
  {
   "cell_type": "markdown",
   "metadata": {},
   "source": [
    "# Notebook to plot 2D spatial Chla for all the depths"
   ]
  },
  {
   "cell_type": "code",
   "execution_count": 1,
   "metadata": {},
   "outputs": [],
   "source": [
    "import os\n",
    "import sys\n",
    "import numpy as np\n",
    "import pandas as pd\n",
    "from netCDF4 import Dataset as NetCDFFile \n",
    "from datetime import datetime\n",
    "import numpy as np \n",
    "import matplotlib.pyplot as plt\n",
    "os.environ[\"PROJ_LIB\"] = '/opt/conda/share/proj'\n",
    "from mpl_toolkits.basemap import Basemap\n",
    "from numpy import ma\n",
    "from matplotlib import ticker, cm\n",
    "import matplotlib as mpl\n",
    "import matplotlib.ticker as tick\n",
    "# import proplot as plot\n",
    "from matplotlib.colors import LogNorm\n",
    "import matplotlib.colors as mplc\n",
    "from matplotlib.ticker import LogFormatter "
   ]
  },
  {
   "cell_type": "markdown",
   "metadata": {},
   "source": [
    "## Add path of .nc files and path of .png files to be saved"
   ]
  },
  {
   "cell_type": "code",
   "execution_count": 2,
   "metadata": {},
   "outputs": [],
   "source": [
    "\n",
    "# DATE_TODAY=\"20210222\"\n",
    "DATE_TODAY = '20211201' # This DATE_TODAY should be same as the first notebook\n",
    "\n",
    "###############################################################################################\n",
    "# # To run in home folder please uncomment below paths\n",
    "plot_path='/'.join(['/home/jovyan/Phytoplankton_EOV/Chla_Product/Plots', DATE_TODAY])\n",
    "path_TACMOB='/'.join(['/home/jovyan/Phytoplankton_EOV/Chla_Product/Outputs', DATE_TODAY])\n",
    "###############################################################################################\n",
    "\n",
    "\n",
    "###############################################################################################\n",
    "# # To run in WorkSpace VRE folder please uncomment below paths\n",
    "# plot_path='/'.join(['/workspace/VREFolders/Zoo-Phytoplankton_EOV/Phytoplankton_EOV/Chla_Product/Plots', DATE_TODAY])\n",
    "# path_TACMOB='/'.join(['/workspace/VREFolders/Zoo-Phytoplankton_EOV/Phytoplankton_EOV/Chla_Product/Outputs', DATE_TODAY])\n"
   ]
  },
  {
   "cell_type": "markdown",
   "metadata": {},
   "source": [
    "### Making all plots for year 2018\n",
    "### Plots will be saved corresponding monthly folders"
   ]
  },
  {
   "cell_type": "code",
   "execution_count": 3,
   "metadata": {},
   "outputs": [
    {
     "name": "stdout",
     "output_type": "stream",
     "text": [
      "2018\n",
      "10\n",
      "/home/jovyan/Chla_Product/Outputs/20210222/2018/10/SOCA_CHLA_glo_bgc3d_rep_2018_10_P20210222.nc\n",
      "2018\n",
      "11\n",
      "/home/jovyan/Chla_Product/Outputs/20210222/2018/11/SOCA_CHLA_glo_bgc3d_rep_2018_11_P20210222.nc\n",
      "2018\n",
      "12\n",
      "/home/jovyan/Chla_Product/Outputs/20210222/2018/12/SOCA_CHLA_glo_bgc3d_rep_2018_12_P20210222.nc\n"
     ]
    },
    {
     "name": "stderr",
     "output_type": "stream",
     "text": [
      "/opt/conda/lib/python3.8/site-packages/matplotlib/contour.py:1494: UserWarning: Warning: converting a masked element to nan.\n",
      "  self.zmax = float(z.max())\n",
      "/opt/conda/lib/python3.8/site-packages/matplotlib/contour.py:1495: UserWarning: Warning: converting a masked element to nan.\n",
      "  self.zmin = float(z.min())\n"
     ]
    }
   ],
   "source": [
    "##########################################################################\n",
    "##########################################################################\n",
    "\n",
    "# New Depths\n",
    "CMEMS_pres_N=[0, 5, 10, 15, 20, 25, 30, 35, 40,45, 50, 55, 60, 65, 70, 80, 90, 100,\n",
    "              125, 150, 175, 200, 225, 250, 275, 300, 350, 400, 450, 500, 550, 600,\n",
    "              700, 800, 900, 1000]\n",
    "# Year\n",
    "y = 2018\n",
    "MONTHS=[1,2,3,4,5,6,7,8,9,10,11,12]\n",
    "# MONTHS = [1]\n",
    "str_months = ['January', 'February', \"March\", \"April\", \"May\", \"June\", \"July\", \"August\", \"September\", \"October\", \"November\", \"December\"]\n",
    "for m in MONTHS:\n",
    "    print(y)\n",
    "    print(m)\n",
    "    M = str(m).zfill(2)\n",
    "    \n",
    "    #Create the subdirectory of path_TACMOB where the NetCDF of 3D Chl will be stored\n",
    "    dir_plot=[plot_path,str(y),str(m)]\n",
    "    path_png_plot ='/'.join(dir_plot)\n",
    "    if not os.path.isdir(path_png_plot):\n",
    "        os.mkdir(path_png_plot)\n",
    "    dir_nc_data='/'.join([path_TACMOB,str(y),str(m)])\n",
    "    path_nc_file=''.join([dir_nc_data,'/SOCA_CHLA_glo_bgc3d_rep_',str(y),'_',str(M),'_P',str(DATE_TODAY),'.nc'])\n",
    "    print(path_nc_file)\n",
    "    nc_data = NetCDFFile(path_nc_file)\n",
    "    SOCA_CHLA_3D = nc_data.variables['soca_chla'][:]\n",
    "    lat = nc_data.variables['latitude'][:]\n",
    "    lon = nc_data.variables['longitude'][:]\n",
    "    lon_grid, lat_grid = np.meshgrid(lon, lat)\n",
    "\n",
    "\n",
    "    for ii in np.arange(len(CMEMS_pres_N)):\n",
    "        plt.rcParams.update({'figure.max_open_warning': 0})\n",
    "        fig = plt.figure(ii+1, figsize=(10, 4),facecolor='white') \n",
    "        fig.patch.set_facecolor('white')\n",
    "        ax=fig.add_subplot(111)\n",
    "        text =  \"{} {} Chla at {}m depth\"\n",
    "        plt.text(-50, 93,text.format(str(y), str_months[m-1], str(CMEMS_pres_N[ii]), transform=ax.transAxes, fontsize=6))\n",
    "        ax.set_ylabel('Latitude',fontsize=12, labelpad=25)\n",
    "        ax.set_xlabel('Longitude',fontsize=12,labelpad=25)\n",
    "        m_map = Basemap(projection='cyl',llcrnrlat=-90,urcrnrlat=90, llcrnrlon=-180,urcrnrlon=180,resolution='c')\n",
    "#         m_map.shadedrelief()\n",
    "        m_map.drawcoastlines(linewidth=0.1)\n",
    "        m_map.fillcontinents(color='grey',lake_color='white')\n",
    "        m_map.drawparallels(np.arange(-90,90,15),labels=[1,0,0,1],latmax=90, linewidth=0.3, fontsize=7)\n",
    "        m_map.drawmeridians(np.arange(-180,180,30),labels=[1,0,0,1], rotation=45, linewidth=0.3, fontsize=7)  \n",
    "\n",
    "        levels = np.logspace(-3,1,121)\n",
    "        formatter = LogFormatter(base=10.0, labelOnlyBase=False, minor_thresholds=None, linthresh=None) \n",
    "        cf=ax.contourf(lon_grid,lat_grid,SOCA_CHLA_3D[0,ii,:,:], cmap='jet', levels=levels, norm=mplc.LogNorm())        \n",
    "        cax = fig.add_axes([ax.get_position().x1+0.01,ax.get_position().y0,0.02,ax.get_position().height])\n",
    "        cb = fig.colorbar(cf,cax=cax, ticks=[0.001, 0.01, 0.1,1,10], format=formatter) \n",
    "        cb.ax.set_yticklabels(labels=[0.001, 0.01,0.1,1,10],fontsize=8)\n",
    "        cb.set_label('Chla (mg $m^{-3}$)', rotation=90, fontsize=10)           \n",
    "        pp2 = ''.join([str(path_png_plot),'/SOCA_chla_',str(y),'_',str_months[m-1],'_',str(CMEMS_pres_N[ii]),'m_depth.png'])\n",
    "        fig.savefig(pp2, bbox_inches='tight', dpi=300)\n",
    "        plt.close()\n",
    "\n",
    "##########################################################################\n",
    "##########################################################################"
   ]
  },
  {
   "cell_type": "code",
   "execution_count": null,
   "metadata": {},
   "outputs": [],
   "source": []
  },
  {
   "cell_type": "code",
   "execution_count": null,
   "metadata": {},
   "outputs": [],
   "source": []
  }
 ],
 "metadata": {
  "kernelspec": {
   "display_name": "Python 3",
   "language": "python",
   "name": "python3"
  },
  "language_info": {
   "codemirror_mode": {
    "name": "ipython",
    "version": 3
   },
   "file_extension": ".py",
   "mimetype": "text/x-python",
   "name": "python",
   "nbconvert_exporter": "python",
   "pygments_lexer": "ipython3",
   "version": "3.8.5"
  }
 },
 "nbformat": 4,
 "nbformat_minor": 4
}
