{
 "cells": [
  {
   "cell_type": "code",
   "execution_count": null,
   "metadata": {},
   "outputs": [],
   "source": [
    "import numpy as np\n",
    "import pandas as pd"
   ]
  },
  {
   "cell_type": "code",
   "execution_count": null,
   "metadata": {},
   "outputs": [],
   "source": [
    "def find_Ze(chl_sat):\n",
    "    \n",
    "    ## Calcul de Ze\n",
    "    ## Calcul du Kd\n",
    "    ##--------------\n",
    "    # K: coefficient d'attenuation global\n",
    "    # Kw: coefficient d'attenuation de l'eau pure (m^-1)(490 nm)\n",
    "    # Kbio: coefficient d'attenuation biologique (490 nm)\n",
    "    # K490: coefficient d'attenuation à 490 nm.\n",
    "    \n",
    "    # pour la longueur d'onde lambda = 490 nm  #\n",
    "    Kw = 0.01660\n",
    "    e = 0.68955\n",
    "    X = 0.07242\n",
    "    \n",
    "    # d'aprés A. Morel 2001  #\n",
    "    K490 = Kw + X*chl_sat**e\n",
    "    \n",
    "    #d'apres Rochford et al. 2001\n",
    "    Kd = 0.0085 + 1.6243*K490\n",
    "    \n",
    "    Ze = -np.log(0.01)/Kd\n",
    "    return Ze"
   ]
  }
 ],
 "metadata": {
  "kernelspec": {
   "display_name": "Python 3",
   "language": "python",
   "name": "python3"
  },
  "language_info": {
   "codemirror_mode": {
    "name": "ipython",
    "version": 3
   },
   "file_extension": ".py",
   "mimetype": "text/x-python",
   "name": "python",
   "nbconvert_exporter": "python",
   "pygments_lexer": "ipython3",
   "version": "3.8.3"
  }
 },
 "nbformat": 4,
 "nbformat_minor": 4
}
