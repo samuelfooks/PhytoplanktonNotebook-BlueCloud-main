{
 "cells": [
  {
   "cell_type": "markdown",
   "metadata": {},
   "source": [
    "## Function to apply the bathymetric mask"
   ]
  },
  {
   "cell_type": "markdown",
   "metadata": {},
   "source": [
    "### Install libraries"
   ]
  },
  {
   "cell_type": "code",
   "execution_count": 1,
   "metadata": {},
   "outputs": [],
   "source": [
    "import numpy as np"
   ]
  },
  {
   "cell_type": "markdown",
   "metadata": {},
   "source": [
    "### Define function to get bathy condition"
   ]
  },
  {
   "cell_type": "code",
   "execution_count": 2,
   "metadata": {},
   "outputs": [],
   "source": [
    "def mask_bathy(bathy_mat, lon_bathy, lat_bathy, lon, lat, threshold):\n",
    "    i_bath = np.argmin(np.abs(lon_bathy-lon))\n",
    "    j_bath = np.argmin(np.abs(lat_bathy-lat))\n",
    "    height = bathy_mat[j_bath,i_bath]\n",
    "    if height>threshold:\n",
    "        bathy = False\n",
    "    else:\n",
    "        bathy = True\n",
    "    return bathy"
   ]
  }
 ],
 "metadata": {
  "kernelspec": {
   "display_name": "Python 3",
   "language": "python",
   "name": "python3"
  },
  "language_info": {
   "codemirror_mode": {
    "name": "ipython",
    "version": 3
   },
   "file_extension": ".py",
   "mimetype": "text/x-python",
   "name": "python",
   "nbconvert_exporter": "python",
   "pygments_lexer": "ipython3",
   "version": "3.8.3"
  }
 },
 "nbformat": 4,
 "nbformat_minor": 4
}
