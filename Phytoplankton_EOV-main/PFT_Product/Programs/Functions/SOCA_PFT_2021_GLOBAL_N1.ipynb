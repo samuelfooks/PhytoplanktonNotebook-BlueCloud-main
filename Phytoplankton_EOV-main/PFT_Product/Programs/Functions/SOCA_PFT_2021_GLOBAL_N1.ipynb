{
 "cells": [
  {
   "cell_type": "markdown",
   "metadata": {},
   "source": [
    "# Function ZNORM MIcro, Nano and Pico"
   ]
  },
  {
   "cell_type": "markdown",
   "metadata": {},
   "source": [
    "### Import libraries"
   ]
  },
  {
   "cell_type": "code",
   "execution_count": 1,
   "metadata": {},
   "outputs": [],
   "source": [
    "import pathlib\n",
    "import pickle\n",
    "import numpy as np\n",
    "import pandas as pd\n",
    "import oceans.sw_extras.sw_extras as swe\n",
    "from itertools import chain"
   ]
  },
  {
   "cell_type": "markdown",
   "metadata": {},
   "source": [
    "### Definition of paths"
   ]
  },
  {
   "cell_type": "code",
   "execution_count": 3,
   "metadata": {},
   "outputs": [],
   "source": [
    "###############################################################################################\n",
    "# # To run in home folder please uncomment below paths\n",
    "\n",
    "Phys_MODEL_PATH = pathlib.Path(\"/home/jovyan/Phytoplankton_EOV/PFT_Product/Programs/Models/Phys_Models\")\n",
    "Micro_MODEL_PATH = pathlib.Path('/home/jovyan/Phytoplankton_EOV/PFT_Product/Programs/Models/Micro_Models')\n",
    "Nano_MODEL_PATH = pathlib.Path('/home/jovyan/Phytoplankton_EOV/PFT_Product/Programs/Models/Nano_Models')\n",
    "Pico_MODEL_PATH = pathlib.Path('/home/jovyan/Phytoplankton_EOV/PFT_Product/Programs/Models/Pico_Models')\n",
    "###############################################################################################\n",
    "\n",
    "\n",
    "\n",
    "###############################################################################################\n",
    "# # To run in WorkSpace VRE folder please uncomment below paths\n",
    "\n",
    "# Phys_MODEL_PATH = pathlib.Path(\"/workspace/VREFolders/Zoo-Phytoplankton_EOV/Phytoplankton_EOV/PFT_Product/Programs/Models/Phys_Models\")\n",
    "# Micro_MODEL_PATH = pathlib.Path('/workspace/VREFolders/Zoo-Phytoplankton_EOV/Phytoplankton_EOV/PFT_Product/Programs/Models/Micro_Models')\n",
    "# Nano_MODEL_PATH = pathlib.Path('/workspace/VREFolders/Zoo-Phytoplankton_EOV/Phytoplankton_EOV/PFT_Product/Programs/Models/Nano_Models')\n",
    "# Pico_MODEL_PATH = pathlib.Path('/workspace/VREFolders/Zoo-Phytoplankton_EOV/Phytoplankton_EOV/PFT_Product/Programs/Models/Pico_Models')\n",
    "###############################################################################################"
   ]
  },
  {
   "cell_type": "markdown",
   "metadata": {},
   "source": [
    "### Load the PCA model to transform temperature, salinity and spiciness profiles in principal components"
   ]
  },
  {
   "cell_type": "code",
   "execution_count": 4,
   "metadata": {},
   "outputs": [],
   "source": [
    "# Lad the PCAs model of Temperature, Salinity and Spiciness\n",
    "pkl_filename_temp_pca = ''.join([str(Phys_MODEL_PATH),str(\"/temp_pca_50_V1.pkl\")])\n",
    "pca_temp = pickle.load(open(pkl_filename_temp_pca, \"rb\"))\n",
    "\n",
    "pkl_filename_sal_pca = ''.join([str(Phys_MODEL_PATH),str(\"/sal_pca_50_V1.pkl\")])\n",
    "pca_sal = pickle.load(open(pkl_filename_sal_pca, \"rb\"))\n",
    "\n",
    "pkl_filename_spici_pca = ''.join([str(Phys_MODEL_PATH),str(\"/spici_pca_50_V1.pkl\")])\n",
    "pca_spici = pickle.load(open(pkl_filename_spici_pca, \"rb\"))\n"
   ]
  },
  {
   "cell_type": "markdown",
   "metadata": {},
   "source": [
    "### Load the x-scaler and y-scaler models"
   ]
  },
  {
   "cell_type": "code",
   "execution_count": 5,
   "metadata": {},
   "outputs": [],
   "source": [
    "\n",
    "# FOR MICRO\n",
    "# Load the x-scaler from the file \n",
    "filename_x_scaler_Micro = ''.join([str(Micro_MODEL_PATH),str(\"/x_scaler_50_V1.pkl\")]) \n",
    "x_scaler_Micro = pickle.load(open(filename_x_scaler_Micro, 'rb')) \n",
    "# Load the y-scaler from the file \n",
    "filename_y_scaler_Micro = ''.join([str(Micro_MODEL_PATH),str(\"/y_scaler_50_V1.pkl\")])\n",
    "y_scaler_Micro = pickle.load(open(filename_y_scaler_Micro, 'rb')) \n",
    "\n",
    "\n",
    "# FOR NANO\n",
    "# Load the x-scaler from the file \n",
    "filename_x_scaler_Nano = ''.join([str(Nano_MODEL_PATH),str(\"/x_scaler_50_V1.pkl\")]) \n",
    "x_scaler_Nano = pickle.load(open(filename_x_scaler_Nano, 'rb')) \n",
    "# Load the y-scaler from the file \n",
    "filename_y_scaler_Nano = ''.join([str(Nano_MODEL_PATH),str(\"/y_scaler_50_V1.pkl\")])\n",
    "y_scaler_Nano = pickle.load(open(filename_y_scaler_Nano, 'rb')) \n",
    "\n",
    "\n",
    "\n",
    "# FOR PICO\n",
    "# Load the x-scaler from the file \n",
    "filename_x_scaler_Pico = ''.join([str(Pico_MODEL_PATH),str(\"/x_scaler_50_V1.pkl\")]) \n",
    "x_scaler_Pico = pickle.load(open(filename_x_scaler_Pico, 'rb')) \n",
    "# Load the y-scaler from the file \n",
    "filename_y_scaler_Pico = ''.join([str(Pico_MODEL_PATH),str(\"/y_scaler_50_V1.pkl\")])\n",
    "y_scaler_Pico = pickle.load(open(filename_y_scaler_Pico, 'rb')) \n",
    "\n",
    "\n"
   ]
  },
  {
   "cell_type": "markdown",
   "metadata": {},
   "source": [
    "## Function SOCA_PFT_GLOBAL_2021 that takes inputs Rrs data, the SLA value, the PAR value, the vectors of salinity and temperature containing the 36 values for the 36 CMEMS depth levels"
   ]
  },
  {
   "cell_type": "code",
   "execution_count": 6,
   "metadata": {},
   "outputs": [],
   "source": [
    "def INPUTS_SOCA_PFT_GLOBAL_2021(RHO_WN_412, RHO_WN_443, RHO_WN_490, RHO_WN_555, RHO_WN_670, SLA, PAR, MLD, sal,temp,spici,lon, lat, doy):\n",
    "#                           sin_doy, cos_doy, x_cart, y_cart, z_cart, sal, temp, spici):\n",
    "    \n",
    "    # Transform in pandas dataframe\n",
    "#     temp = pd.DataFrame(temp)\n",
    "#     sal = pd.DataFrame(sal)\n",
    "#     pres = pd.DataFrame(pres)\n",
    "    INPUTS1 = [SLA, PAR, RHO_WN_412, RHO_WN_443, RHO_WN_490, RHO_WN_555, RHO_WN_670, MLD]\n",
    "#               sin_doy,cos_doy,x_cart,y_cart,z_cart]\n",
    "    \n",
    "    # Compute spiciness from temperature and salinity\n",
    "#     spiciness = swe.spice(sal, temp, pres)\n",
    "\n",
    "    # Apply PCA on temperature, salinity and spiciness profiles to get the principal components\n",
    "    PrincipalComponentsTemp_Test = pca_temp.transform(np.transpose(temp))[:,:4]\n",
    "    principalComponentsSal_Test = pca_sal.transform(np.transpose(sal))[:,:3]\n",
    "    principalComponentsSpici_Test = pca_spici.transform(np.transpose(spici))[:,:4]\n",
    "    \n",
    "    # Transform day of the year in sin and cos of the radians\n",
    "    doy_radians = (doy*np.pi)/182.5\n",
    "    DOY = [np.sin(doy_radians), np.cos(doy_radians)]\n",
    "    \n",
    "    # Transform the locationlon/lat in Cartesian coordinates x/y/z\n",
    "    lat_radians = (lat*np.pi)/90\n",
    "    lon_radians = (lon*np.pi)/180\n",
    "    X_Y_Z = [np.cos(lat_radians) * np.cos(lon_radians), np.cos(lat_radians) * np.sin(lon_radians), np.sin(lat_radians)]\n",
    "         \n",
    "    INPUTS = INPUTS1 + DOY + X_Y_Z + np.concatenate(PrincipalComponentsTemp_Test).ravel().tolist() + np.concatenate(principalComponentsSal_Test).ravel().tolist() + np.concatenate(principalComponentsSpici_Test).ravel().tolist()\n",
    "    \n",
    "    input_features = ['sla','PAR',\n",
    "                  'RHO_WN_412','RHO_WN_443','RHO_WN_490','RHO_WN_555','RHO_WN_670', \n",
    "                  'MLD','sin_doy', 'cos_doy',\n",
    "                  'x_cart', 'y_cart', 'z_cart',\n",
    "                  'temp_z_PC0', 'temp_z_PC1', 'temp_z_PC2', 'temp_z_PC3',\n",
    "                  'sal_z_PC0', 'sal_z_PC1', 'sal_z_PC2',\n",
    "                  'spici_z_PC0', 'spici_z_PC1', 'spici_z_PC2', 'spici_z_PC3',]\n",
    "\n",
    "\n",
    "\n",
    "    INPUTS = pd.DataFrame(INPUTS)\n",
    "    INPUTS = INPUTS.transpose()    \n",
    "    INPUTS.columns = input_features\n",
    "    INPUTS_scaled = pd.DataFrame(x_scaler_Micro.transform(INPUTS), columns=INPUTS.columns)\n",
    "    \n",
    "    return INPUTS_scaled"
   ]
  },
  {
   "cell_type": "markdown",
   "metadata": {},
   "source": [
    "## FUNCTION SOCA_PFT_GLOBAL_2021"
   ]
  },
  {
   "cell_type": "code",
   "execution_count": 7,
   "metadata": {},
   "outputs": [],
   "source": [
    "def SOCA_PFT_GLOBAL_2021(INPUTS_SOCA_PFT_GLOBAL_2021,ZNORM, pres_new):\n",
    "    \n",
    "    n_sample = INPUTS_SOCA_PFT_GLOBAL_2021.shape[0]\n",
    "    \n",
    "    YPRED_TOTAL_Micro = pd.DataFrame()\n",
    "    YPRED_TOTAL_Nano = pd.DataFrame()\n",
    "    YPRED_TOTAL_Pico = pd.DataFrame()\n",
    "    \n",
    "    nc1 = [95,95,97,98,99,101,103,105,107,108]\n",
    "    nc2 = [63,71,77,58,90,77,94,104,102,80]\n",
    "    Zeta_interp = np.linspace(0,1.5,50)\n",
    "    depth_interp = Zeta_interp*ZNORM   \n",
    "    \n",
    "    for x in np.arange(len(nc1)):\n",
    "        #######################################################################################################################################\n",
    "         \n",
    "        \n",
    "        #######################################################################################################################################\n",
    "        # FOR MICRO\n",
    "        pkl_file_Micro = ''.join([str(Micro_MODEL_PATH),str(\"/pickle_model_Micro_\"),str(x),str(\".pkl\")])\n",
    "        MLP_Micro = pickle.load(open(pkl_file_Micro, 'rb')) \n",
    "        # Apply MLP to the test dataset\n",
    "        ypred_scaled_Micro = MLP_Micro.predict(INPUTS_SOCA_PFT_GLOBAL_2021)        \n",
    "        # Detransform the outputs:\n",
    "        ypred_Micro = pd.DataFrame(y_scaler_Micro.inverse_transform(ypred_scaled_Micro), columns=np.arange(50), index=np.arange(n_sample))\n",
    "\n",
    "#       Making vector\n",
    "        Micro_PRED = ypred_Micro \n",
    "        Micro_PRED_vec = Micro_PRED.values.ravel()  \n",
    "        Micro_PRED_vec = pow(10,Micro_PRED_vec)        \n",
    "        Micro_PRED_vec_N = np.interp(pres_new, depth_interp,Micro_PRED_vec) # made into 36 depths\n",
    "        Micro_PRED_vec_N = np.array(Micro_PRED_vec_N)\n",
    "        Micro_PRED_vec_N[(pres_new > max(depth_interp))]=np.nan # masked data below 1.5 ZNORM depths      \n",
    "        \n",
    "#       Making matrix with 10 ensembles\n",
    "        YPRED_TOTAL_Micro = pd.concat([YPRED_TOTAL_Micro, pd.DataFrame(Micro_PRED_vec_N)], axis=1)\n",
    "    \n",
    "\n",
    "        #######################################################################################################################################\n",
    "        # FOR NANO\n",
    "        pkl_file_Nano = ''.join([str(Nano_MODEL_PATH),str(\"/pickle_model_Nano_\"),str(x),str(\".pkl\")])\n",
    "        MLP_Nano = pickle.load(open(pkl_file_Nano, 'rb')) \n",
    "        # Apply MLP to the test dataset\n",
    "        ypred_scaled_Nano = MLP_Nano.predict(INPUTS_SOCA_PFT_GLOBAL_2021)        \n",
    "        # Detransform the outputs:\n",
    "        ypred_Nano = pd.DataFrame(y_scaler_Nano.inverse_transform(ypred_scaled_Nano), columns=np.arange(50), index=np.arange(n_sample))\n",
    "\n",
    "#       Making vector\n",
    "        Nano_PRED = ypred_Nano \n",
    "        Nano_PRED_vec = Nano_PRED.values.ravel()  \n",
    "        Nano_PRED_vec = pow(10,Nano_PRED_vec)        \n",
    "        Nano_PRED_vec_N = np.interp(pres_new, depth_interp,Nano_PRED_vec) # made into 36 depths\n",
    "        Nano_PRED_vec_N = np.array(Nano_PRED_vec_N)\n",
    "        Nano_PRED_vec_N[(pres_new > max(depth_interp))]=np.nan # masked data below 1.5 ZNORM depths      \n",
    "        \n",
    "#       Making matrix with 10 ensembles\n",
    "        YPRED_TOTAL_Nano = pd.concat([YPRED_TOTAL_Nano, pd.DataFrame(Nano_PRED_vec_N)], axis=1)\n",
    "    \n",
    "    \n",
    "        #######################################################################################################################################\n",
    "        # FOR PICO\n",
    "        pkl_file_Pico = ''.join([str(Pico_MODEL_PATH),str(\"/pickle_model_Pico_\"),str(x),str(\".pkl\")])\n",
    "        MLP_Pico = pickle.load(open(pkl_file_Pico, 'rb')) \n",
    "        # Apply MLP to the test dataset\n",
    "        ypred_scaled_Pico = MLP_Pico.predict(INPUTS_SOCA_PFT_GLOBAL_2021)        \n",
    "        # Detransform the outputs:\n",
    "        ypred_Pico = pd.DataFrame(y_scaler_Pico.inverse_transform(ypred_scaled_Pico), columns=np.arange(50), index=np.arange(n_sample))\n",
    "\n",
    "#       Making vector\n",
    "        Pico_PRED = ypred_Pico \n",
    "        Pico_PRED_vec = Pico_PRED.values.ravel()  \n",
    "        Pico_PRED_vec = pow(10,Pico_PRED_vec)        \n",
    "        Pico_PRED_vec_N = np.interp(pres_new, depth_interp,Pico_PRED_vec) # made into 36 depths\n",
    "        Pico_PRED_vec_N = np.array(Pico_PRED_vec_N)\n",
    "        Pico_PRED_vec_N[(pres_new > max(depth_interp))]=np.nan # masked data below 1.5 ZNORM depths      \n",
    "        \n",
    "#       Making matrix with 10 ensembles\n",
    "        YPRED_TOTAL_Pico = pd.concat([YPRED_TOTAL_Pico, pd.DataFrame(Pico_PRED_vec_N)], axis=1) \n",
    "    \n",
    "    \n",
    "    \n",
    "    #######################################################################################################################################\n",
    "    #######################################################################################################################################\n",
    "        \n",
    "    soca_Micro=np.mean(YPRED_TOTAL_Micro, axis=1)\n",
    "    soca_Micro_err=np.std(YPRED_TOTAL_Micro, axis=1)\n",
    "    \n",
    "    soca_Nano=np.mean(YPRED_TOTAL_Nano, axis=1)\n",
    "    soca_Nano_err=np.std(YPRED_TOTAL_Nano, axis=1)\n",
    "    \n",
    "    soca_Pico=np.mean(YPRED_TOTAL_Pico, axis=1)\n",
    "    soca_Pico_err=np.std(YPRED_TOTAL_Pico, axis=1)    \n",
    "    \n",
    "    \n",
    "    return soca_Micro, soca_Micro_err, soca_Nano, soca_Nano_err, soca_Pico, soca_Pico_err"
   ]
  },
  {
   "cell_type": "code",
   "execution_count": null,
   "metadata": {},
   "outputs": [],
   "source": []
  }
 ],
 "metadata": {
  "kernelspec": {
   "display_name": "Python 3",
   "language": "python",
   "name": "python3"
  },
  "language_info": {
   "codemirror_mode": {
    "name": "ipython",
    "version": 3
   },
   "file_extension": ".py",
   "mimetype": "text/x-python",
   "name": "python",
   "nbconvert_exporter": "python",
   "pygments_lexer": "ipython3",
   "version": "3.8.5"
  }
 },
 "nbformat": 4,
 "nbformat_minor": 4
}
