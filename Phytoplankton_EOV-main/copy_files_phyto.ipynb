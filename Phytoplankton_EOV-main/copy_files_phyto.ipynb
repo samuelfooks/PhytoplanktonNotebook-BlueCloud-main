{
 "cells": [
  {
   "cell_type": "code",
   "execution_count": 2,
   "metadata": {},
   "outputs": [
    {
     "data": {
      "text/plain": [
       "'/home/jovyan/copied_Phytoplankton_EOV'"
      ]
     },
     "execution_count": 2,
     "metadata": {},
     "output_type": "execute_result"
    }
   ],
   "source": [
    "## This script copy the files needed to run the Phytoplankton_EOV\n",
    "## only run, please do not modify\n",
    "import os\n",
    "import shutil\n",
    "\n",
    "def ig_f(dir, files):\n",
    "    if dir == '/workspace/VREFolders/Zoo-Phytoplankton_EOV/Phytoplankton_EOV':\n",
    "        return ['Inputs']\n",
    "    if dir == '/workspace/VREFolders/Zoo-Phytoplankton_EOV/Phytoplankton_EOV/Chla_Product/Programs' or dir =='/workspace/VREFolders/Zoo-Phytoplankton_EOV/Phytoplankton_EOV/Chla_Product/Programs/Functions' or dir =='/workspace/VREFolders/Zoo-Phytoplankton_EOV/Phytoplankton_EOV/Chla_Product/Programs/Models/ZNORM':\n",
    "        return []\n",
    "    if dir == '/workspace/VREFolders/Zoo-Phytoplankton_EOV/Phytoplankton_EOV/PFT_Product/Programs' or dir =='/workspace/VREFolders/Zoo-Phytoplankton_EOV/Phytoplankton_EOV/PFT_Product/Programs/Functions' or dir =='/workspace/VREFolders/Zoo-Phytoplankton_EOV/Phytoplankton_EOV/PFT_Product/Programs/Models/Micro_Models' or dir =='/workspace/VREFolders/Zoo-Phytoplankton_EOV/Phytoplankton_EOV/PFT_Product/Programs/Models/Nano_Models' or dir =='/workspace/VREFolders/Zoo-Phytoplankton_EOV/Phytoplankton_EOV/PFT_Product/Programs/Models/Phys_Models' or dir =='/workspace/VREFolders/Zoo-Phytoplankton_EOV/Phytoplankton_EOV/PFT_Product/Programs/Models/Pico_Models':\n",
    "        return []\n",
    "    else:\n",
    "        return [fi for fi in files if os.path.isfile(os.path.join(dir, fi))]   \n",
    "    \n",
    "\n",
    "shutil.copytree('/workspace/VREFolders/Zoo-Phytoplankton_EOV/Phytoplankton_EOV',\n",
    "                '/home/jovyan/copied_Phytoplankton_EOV',\n",
    "                ignore=ig_f)"
   ]
  },
  {
   "cell_type": "code",
   "execution_count": null,
   "metadata": {},
   "outputs": [],
   "source": []
  }
 ],
 "metadata": {
  "kernelspec": {
   "display_name": "Python 3",
   "language": "python",
   "name": "python3"
  },
  "language_info": {
   "codemirror_mode": {
    "name": "ipython",
    "version": 3
   },
   "file_extension": ".py",
   "mimetype": "text/x-python",
   "name": "python",
   "nbconvert_exporter": "python",
   "pygments_lexer": "ipython3",
   "version": "3.8.5"
  }
 },
 "nbformat": 4,
 "nbformat_minor": 4
}
